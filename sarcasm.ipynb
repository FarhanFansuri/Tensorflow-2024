{
  "nbformat": 4,
  "nbformat_minor": 0,
  "metadata": {
    "colab": {
      "provenance": [],
      "authorship_tag": "ABX9TyOxea3cEYucuCdwK12yZxdn",
      "include_colab_link": true
    },
    "kernelspec": {
      "name": "python3",
      "display_name": "Python 3"
    },
    "language_info": {
      "name": "python"
    }
  },
  "cells": [
    {
      "cell_type": "markdown",
      "metadata": {
        "id": "view-in-github",
        "colab_type": "text"
      },
      "source": [
        "<a href=\"https://colab.research.google.com/github/FarhanFansuri/Tensorflow-2024/blob/nlp/sarcasm.ipynb\" target=\"_parent\"><img src=\"https://colab.research.google.com/assets/colab-badge.svg\" alt=\"Open In Colab\"/></a>"
      ]
    },
    {
      "cell_type": "code",
      "execution_count": 8,
      "metadata": {
        "id": "1kyZ1sYqjLCH"
      },
      "outputs": [],
      "source": [
        "import tensorflow as tf\n",
        "import json\n",
        "from tensorflow.keras.preprocessing.text import Tokenizer\n",
        "from tensorflow.keras.preprocessing.sequence import pad_sequences"
      ]
    },
    {
      "cell_type": "code",
      "source": [
        "kalimat_list = [\n",
        "    \"Hari ini cuaca sangat cerah.\",\n",
        "    \"Saya sedang belajar pemrograman Python.\",\n",
        "    \"Makanan favorit saya adalah sushi.\",\n",
        "    \"Pendidikan adalah kunci kesuksesan.\",\n",
        "    \"Pohon-pohon bergoyang ditiup angin sepoi-sepoi.\"\n",
        "]\n",
        "\n",
        "tokenizer = Tokenizer(num_words=100, oov_token=\"<OOV>\")\n",
        "tokenizer.fit_on_texts(kalimat_list)\n",
        "word_index = tokenizer.word_index"
      ],
      "metadata": {
        "id": "YIA8XxBlj4rM"
      },
      "execution_count": 2,
      "outputs": []
    },
    {
      "cell_type": "code",
      "source": [
        "word_index"
      ],
      "metadata": {
        "colab": {
          "base_uri": "https://localhost:8080/"
        },
        "id": "cr3P09jgkW-f",
        "outputId": "88f2929e-452f-4a7a-f47b-a34191652c90"
      },
      "execution_count": 3,
      "outputs": [
        {
          "output_type": "execute_result",
          "data": {
            "text/plain": [
              "{'<OOV>': 1,\n",
              " 'saya': 2,\n",
              " 'adalah': 3,\n",
              " 'pohon': 4,\n",
              " 'sepoi': 5,\n",
              " 'hari': 6,\n",
              " 'ini': 7,\n",
              " 'cuaca': 8,\n",
              " 'sangat': 9,\n",
              " 'cerah': 10,\n",
              " 'sedang': 11,\n",
              " 'belajar': 12,\n",
              " 'pemrograman': 13,\n",
              " 'python': 14,\n",
              " 'makanan': 15,\n",
              " 'favorit': 16,\n",
              " 'sushi': 17,\n",
              " 'pendidikan': 18,\n",
              " 'kunci': 19,\n",
              " 'kesuksesan': 20,\n",
              " 'bergoyang': 21,\n",
              " 'ditiup': 22,\n",
              " 'angin': 23}"
            ]
          },
          "metadata": {},
          "execution_count": 3
        }
      ]
    },
    {
      "cell_type": "code",
      "source": [
        "sequences = tokenizer.texts_to_sequences(kalimat_list)\n",
        "sequences"
      ],
      "metadata": {
        "colab": {
          "base_uri": "https://localhost:8080/"
        },
        "id": "pyNwuhB3kf2z",
        "outputId": "3f5dbeea-8012-4790-b42b-81748ffe70c9"
      },
      "execution_count": 4,
      "outputs": [
        {
          "output_type": "execute_result",
          "data": {
            "text/plain": [
              "[[6, 7, 8, 9, 10],\n",
              " [2, 11, 12, 13, 14],\n",
              " [15, 16, 2, 3, 17],\n",
              " [18, 3, 19, 20],\n",
              " [4, 4, 21, 22, 23, 5, 5]]"
            ]
          },
          "metadata": {},
          "execution_count": 4
        }
      ]
    },
    {
      "cell_type": "code",
      "source": [
        "padded = pad_sequences(sequences, padding=\"post\")\n",
        "padded"
      ],
      "metadata": {
        "colab": {
          "base_uri": "https://localhost:8080/"
        },
        "id": "qWeQEo9ok7rD",
        "outputId": "87467c95-4771-4547-c79c-52e77e057f30"
      },
      "execution_count": 6,
      "outputs": [
        {
          "output_type": "execute_result",
          "data": {
            "text/plain": [
              "array([[ 6,  7,  8,  9, 10,  0,  0],\n",
              "       [ 2, 11, 12, 13, 14,  0,  0],\n",
              "       [15, 16,  2,  3, 17,  0,  0],\n",
              "       [18,  3, 19, 20,  0,  0,  0],\n",
              "       [ 4,  4, 21, 22, 23,  5,  5]], dtype=int32)"
            ]
          },
          "metadata": {},
          "execution_count": 6
        }
      ]
    },
    {
      "cell_type": "code",
      "source": [
        "with open('Sarcasm_Headlines_Dataset.json','r') as f:\n",
        "  sarcasm_datasets = json.load(f)"
      ],
      "metadata": {
        "id": "XrtpzaZTm6K6"
      },
      "execution_count": 9,
      "outputs": []
    },
    {
      "cell_type": "code",
      "source": [
        "sarcasm_datasets[0]"
      ],
      "metadata": {
        "colab": {
          "base_uri": "https://localhost:8080/"
        },
        "id": "8uQOYoGanm1z",
        "outputId": "ee3dc7f4-2c44-42f9-98ef-e0abbaf41035"
      },
      "execution_count": 12,
      "outputs": [
        {
          "output_type": "execute_result",
          "data": {
            "text/plain": [
              "{'is_sarcastic': 1,\n",
              " 'headline': 'thirtysomething scientists unveil doomsday clock of hair loss',\n",
              " 'article_link': 'https://www.theonion.com/thirtysomething-scientists-unveil-doomsday-clock-of-hai-1819586205'}"
            ]
          },
          "metadata": {},
          "execution_count": 12
        }
      ]
    },
    {
      "cell_type": "code",
      "source": [
        "headlines = []\n",
        "\n",
        "for h in sarcasm_datasets:\n",
        "  headlines.append(h['headline'])"
      ],
      "metadata": {
        "id": "J1P62KUMn3zc"
      },
      "execution_count": 13,
      "outputs": []
    },
    {
      "cell_type": "code",
      "source": [
        "tokenizer = Tokenizer(oov_token=\"<OOV>\")\n",
        "tokenizer.fit_on_texts(headlines)\n",
        "word_index = tokenizer.word_index\n",
        "len(word_index)"
      ],
      "metadata": {
        "colab": {
          "base_uri": "https://localhost:8080/"
        },
        "id": "pzg5nYiaoGsh",
        "outputId": "ae490bb9-71bb-4e78-f362-fef60e8ba82b"
      },
      "execution_count": 17,
      "outputs": [
        {
          "output_type": "execute_result",
          "data": {
            "text/plain": [
              "30885"
            ]
          },
          "metadata": {},
          "execution_count": 17
        }
      ]
    },
    {
      "cell_type": "code",
      "source": [
        "sequences = tokenizer.texts_to_sequences(headlines)\n",
        "padded = pad_sequences(sequences, padding=\"post\")\n",
        "padded"
      ],
      "metadata": {
        "colab": {
          "base_uri": "https://localhost:8080/"
        },
        "id": "uSGF49NQq42J",
        "outputId": "c9eee135-1f62-416f-c335-d0dd2ef8715b"
      },
      "execution_count": 20,
      "outputs": [
        {
          "output_type": "execute_result",
          "data": {
            "text/plain": [
              "array([[16004,   355,  3167, ...,     0,     0,     0],\n",
              "       [ 7475,  1775,   758, ...,     0,     0,     0],\n",
              "       [  863,    33, 11427, ...,     0,     0,     0],\n",
              "       ...,\n",
              "       [    4,   100,   629, ...,     0,     0,     0],\n",
              "       [ 1870,  1313,  3317, ...,     0,     0,     0],\n",
              "       [  217,  3283,    21, ...,     0,     0,     0]], dtype=int32)"
            ]
          },
          "metadata": {},
          "execution_count": 20
        }
      ]
    }
  ]
}